{
 "cells": [
  {
   "cell_type": "markdown",
   "id": "7dfaf3fb",
   "metadata": {
    "colab_type": "text",
    "id": "view-in-github"
   },
   "source": [
    "<a href=\"https://colab.research.google.com/github/svkarthik86/Python-Basics/blob/main/WEEK3_Assignment-%20Answer.ipynb\" target=\"_parent\"><img src=\"https://colab.research.google.com/assets/colab-badge.svg\" alt=\"Open In Colab\"/></a>"
   ]
  },
  {
   "cell_type": "markdown",
   "id": "f0b37470-0aed-4a25-9c83-b7c419905b51",
   "metadata": {
    "id": "f0b37470-0aed-4a25-9c83-b7c419905b51"
   },
   "source": [
    "### WEEK 3: Assignment"
   ]
  },
  {
   "cell_type": "markdown",
   "id": "fef4acf7-6f16-4e7b-ab52-4198650eb19f",
   "metadata": {
    "id": "fef4acf7-6f16-4e7b-ab52-4198650eb19f"
   },
   "source": [
    "```\n",
    "Q1.Calculate the Salary using Python Programming\n",
    "\n",
    "Read the question carefully and follow the input and output format. \n",
    "\n",
    "Karen got salary for this month and she spends 20% of her salary for food, 10% of her salary for entertainment and 10% of her salary for travel.If she takes care of other shifts she will get 4% of the salary per day. Given her salary and the number of shifts she handled.Calculate how much she can save in her pocket after spending all these?\n",
    "\n",
    "Input and Output Format : First line of input consists of an integer, salary. Next line correspond to the number of shifts. Output consist of an integer, \n",
    "which is saving.\n",
    " 1. Print \"Salary too large\" when salary is greater than 10000. \n",
    " 2. Print \"Shifts too small\" when the shift is less than 0. \n",
    " 3. Print \"Salary too small\" when the salary is less than 0.\n",
    "Include a function named calculateSal()  to calcuate salary and print saving.\n",
    "\n",
    "- Sample Input 1:\n",
    "  7000\n",
    "  5\n",
    "  Sample Output 1:\n",
    "  5600\n",
    "- Sample Input 2:\n",
    "  80000\n",
    "  Sample Output 2:\n",
    "  Salary too large\n",
    "- Sample Input 3:\n",
    "  6000\n",
    "  -1\n",
    "  Sample Output 3:\n",
    "  Shift too small\n",
    "```"
   ]
  },
  {
   "cell_type": "code",
   "execution_count": 1,
   "id": "098ee6cd",
   "metadata": {
    "id": "098ee6cd"
   },
   "outputs": [],
   "source": [
    "def calculateSal():\n",
    "    salary=int(input(\"Enter the salary=\"))\n",
    "    if salary>10000:\n",
    "        print(\"Salary too large\")\n",
    "    elif salary<0 :\n",
    "        print(\"Salary too small\")\n",
    "    else:\n",
    "        shifts=int(input(\"enter the no of shifts=\"))\n",
    "        if shifts<0:\n",
    "            print(\"Shift too small\")\n",
    "        else:\n",
    "            savings=(salary*0.6)+(salary*0.04*shifts)\n",
    "            return savings"
   ]
  },
  {
   "cell_type": "code",
   "execution_count": 2,
   "id": "c3ec129c",
   "metadata": {
    "id": "c3ec129c",
    "outputId": "11019629-8c77-4192-9203-48c2b149cd00"
   },
   "outputs": [
    {
     "name": "stdout",
     "output_type": "stream",
     "text": [
      "Enter the salary=7000\n",
      "enter the no of shifts=5\n"
     ]
    },
    {
     "data": {
      "text/plain": [
       "5600.0"
      ]
     },
     "execution_count": 2,
     "metadata": {},
     "output_type": "execute_result"
    }
   ],
   "source": [
    "calculateSal()"
   ]
  },
  {
   "cell_type": "code",
   "execution_count": 4,
   "id": "0b2bc4ee",
   "metadata": {},
   "outputs": [
    {
     "name": "stdout",
     "output_type": "stream",
     "text": [
      "Enter the salary=6000\n",
      "enter the no of shifts=-1\n",
      "Shift too small\n"
     ]
    }
   ],
   "source": [
    "calculateSal()"
   ]
  },
  {
   "cell_type": "code",
   "execution_count": 5,
   "id": "6fb2a29b",
   "metadata": {},
   "outputs": [
    {
     "name": "stdout",
     "output_type": "stream",
     "text": [
      "Enter the salary=80000\n",
      "Salary too large\n"
     ]
    }
   ],
   "source": [
    "calculateSal()"
   ]
  },
  {
   "cell_type": "markdown",
   "id": "1968378f-56d5-47f6-8791-913eb738aa3d",
   "metadata": {
    "id": "1968378f-56d5-47f6-8791-913eb738aa3d"
   },
   "source": [
    "```\n",
    "Q2.write python code to read n as integer,from STDIN. For all non-negative integers i<n ,print i**2.\n",
    "\n",
    "Example\n",
    "The list of non-negative integers that are less than n=3 is[0,1,2]. Print the square of each number on a separate line.\n",
    "0\n",
    "1\n",
    "4\n",
    "\n",
    "Input Format\n",
    "The first and only line contains the integer,n .\n",
    "Output Format\n",
    "Print n lines, one corresponding to each i .\n",
    "\n",
    "\n",
    "Sample Input \n",
    "5\n",
    "Sample Output \n",
    "0\n",
    "1\n",
    "4\n",
    "9\n",
    "16\n",
    "```"
   ]
  },
  {
   "cell_type": "code",
   "execution_count": 6,
   "id": "4a80fa6e",
   "metadata": {
    "id": "4a80fa6e",
    "outputId": "fa00a2a4-76d7-420d-f1c7-15cd7ccf988e"
   },
   "outputs": [
    {
     "name": "stdout",
     "output_type": "stream",
     "text": [
      "How many square number you want:5\n",
      "The square of each number:\n",
      "0\n",
      "\n",
      "1\n",
      "\n",
      "4\n",
      "\n",
      "9\n",
      "\n",
      "16\n",
      "\n"
     ]
    }
   ],
   "source": [
    "n=int(input(\"How many square number you want:\"))\n",
    "print(\"The square of each number:\")\n",
    "for i in range(n):\n",
    " print(i**2)\n",
    " print()\n"
   ]
  },
  {
   "cell_type": "code",
   "execution_count": 8,
   "id": "489c854a-cbd2-4cfd-88ea-d5a804055c2c",
   "metadata": {
    "id": "489c854a-cbd2-4cfd-88ea-d5a804055c2c",
    "outputId": "ed25a013-41a3-40e7-fbe3-060b93e33f97"
   },
   "outputs": [
    {
     "name": "stdout",
     "output_type": "stream",
     "text": [
      "enter the value=5\n",
      "0\n",
      "1\n",
      "4\n",
      "9\n",
      "16\n"
     ]
    }
   ],
   "source": [
    "n=int(input(\"enter the value=\"))\n",
    "for i in range(n):    \n",
    "    print(i*i)\n",
    "\n"
   ]
  },
  {
   "cell_type": "markdown",
   "id": "f50ecb1a-ed81-4254-ae20-57506e45c53f",
   "metadata": {
    "id": "f50ecb1a-ed81-4254-ae20-57506e45c53f"
   },
   "source": [
    "```\n",
    "Q3.An extra day is added to the calendar almost every four years as February 29, and the day is called a leap day. It corrects the calendar for the fact that our planet takes approximately 365.25 days to orbit the sun. A leap year contains a leap day.\n",
    "\n",
    "In the Gregorian calendar, three conditions are used to identify leap years:\n",
    "The year can be evenly divided by 4, is a leap year, unless:\n",
    "The year can be evenly divided by 100, it is NOT a leap year, unless:\n",
    "The year is also evenly divisible by 400. Then it is a leap year.\n",
    "This means that in the Gregorian calendar, the years 2000 and 2400 are leap years, while 1800, 1900, 2100, 2200, 2300 and 2500 are NOT leap years. Source\n",
    "\n",
    "Task\n",
    "Given a year, determine whether it is a leap year. If it is a leap year, return the Boolean True, otherwise return False.\n",
    "\n",
    "Note that the code stub provided reads from STDIN and passes arguments to the is_leap function. It is only necessary to complete the is_leap function.\n",
    "\n",
    "Input Format\n",
    "Read , the year as integer to test.\n",
    "Output Format\n",
    "The function must return a Boolean value (True/False)\n",
    "\n",
    "Sample Input \n",
    "1990\n",
    "Sample Output \n",
    "False\n",
    "\n",
    "```"
   ]
  },
  {
   "cell_type": "code",
   "execution_count": 9,
   "id": "1273f4a8-1681-40fc-8afc-75fce2c886d3",
   "metadata": {
    "id": "1273f4a8-1681-40fc-8afc-75fce2c886d3",
    "outputId": "e8fca4d3-930b-4ed8-9fb2-654eb10d0704"
   },
   "outputs": [
    {
     "name": "stdout",
     "output_type": "stream",
     "text": [
      "Enter The Year1990\n"
     ]
    },
    {
     "data": {
      "text/plain": [
       "False"
      ]
     },
     "execution_count": 9,
     "metadata": {},
     "output_type": "execute_result"
    }
   ],
   "source": [
    "def is_leap(year):\n",
    "    return bool((year%4==0 and year%100!=0) or (year%400==0))\n",
    "year=int(input(\"Enter The Year\"))\n",
    "is_leap(year)    "
   ]
  },
  {
   "cell_type": "code",
   "execution_count": 10,
   "id": "ef987f4a",
   "metadata": {
    "id": "ef987f4a"
   },
   "outputs": [],
   "source": [
    "def is_leap1():\n",
    "    year = int(input(\"enter the year\"))\n",
    "    if (year % 400 == 0) and (year % 100 == 0):\n",
    "        return True\n",
    "    elif (year % 4 ==0) and (year % 100 != 0):\n",
    "        return True\n",
    "    else:\n",
    "        return False"
   ]
  },
  {
   "cell_type": "code",
   "execution_count": 11,
   "id": "c5b59f9b",
   "metadata": {
    "id": "c5b59f9b",
    "outputId": "f34d5622-acf8-4667-9102-c521c4cd9bcf"
   },
   "outputs": [
    {
     "name": "stdout",
     "output_type": "stream",
     "text": [
      "enter the year1990\n"
     ]
    },
    {
     "data": {
      "text/plain": [
       "False"
      ]
     },
     "execution_count": 11,
     "metadata": {},
     "output_type": "execute_result"
    }
   ],
   "source": [
    "is_leap1()"
   ]
  },
  {
   "cell_type": "code",
   "execution_count": 12,
   "id": "253c9422",
   "metadata": {
    "id": "253c9422",
    "outputId": "eee2f2cd-6a2c-4f54-fbc8-b957d6e56fdc"
   },
   "outputs": [
    {
     "name": "stdout",
     "output_type": "stream",
     "text": [
      "1990\n"
     ]
    },
    {
     "data": {
      "text/plain": [
       "False"
      ]
     },
     "execution_count": 12,
     "metadata": {},
     "output_type": "execute_result"
    }
   ],
   "source": [
    "def is_leap2(year):\n",
    "    leap = False\n",
    "    if year % 4 == 0:\n",
    "        if year % 100 != 0:\n",
    "            leap = True\n",
    "        elif year % 400 == 0:\n",
    "            leap = True\n",
    "    return leap\n",
    "year = int(input())\n",
    "is_leap2(year)"
   ]
  },
  {
   "cell_type": "code",
   "execution_count": null,
   "id": "7c8a98de",
   "metadata": {
    "id": "7c8a98de"
   },
   "outputs": [],
   "source": []
  }
 ],
 "metadata": {
  "colab": {
   "include_colab_link": true,
   "name": "WEEK3-Assignment.ipynb",
   "provenance": []
  },
  "kernelspec": {
   "display_name": "Python 3 (ipykernel)",
   "language": "python",
   "name": "python3"
  },
  "language_info": {
   "codemirror_mode": {
    "name": "ipython",
    "version": 3
   },
   "file_extension": ".py",
   "mimetype": "text/x-python",
   "name": "python",
   "nbconvert_exporter": "python",
   "pygments_lexer": "ipython3",
   "version": "3.9.7"
  }
 },
 "nbformat": 4,
 "nbformat_minor": 5
}
